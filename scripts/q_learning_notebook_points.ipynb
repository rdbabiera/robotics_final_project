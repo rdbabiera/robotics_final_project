{
  "cells": [
    {
      "cell_type": "markdown",
      "metadata": {
        "id": "1zzypgnziNgR"
      },
      "source": [
        "## Notebook to Train DQN Model\n"
      ]
    },
    {
      "cell_type": "markdown",
      "metadata": {
        "id": "cbNLBPH6iNgY"
      },
      "source": [
        "### Imports"
      ]
    },
    {
      "cell_type": "code",
      "execution_count": null,
      "metadata": {
        "id": "u-h0_FCGiNgZ"
      },
      "outputs": [
        {
          "ename": "",
          "evalue": "",
          "output_type": "error",
          "traceback": [
            "\u001b[1;31mFailed to start the Kernel. \n",
            "Traceback (most recent call last):\n",
            "  File \"/home/rdbabiera/.vscode/extensions/ms-toolsai.jupyter-2022.4.1021342353/pythonFiles/vscode_datascience_helpers/jupyter_daemon.py\", line 158, in _start_notebook\n",
            "    from notebook import notebookapp as app\n",
            "  File \"/home/rdbabiera/.local/lib/python3.8/site-packages/notebook/notebookapp.py\", line 43, in <module>\n",
            "    from jinja2 import Environment, FileSystemLoader\n",
            "  File \"/usr/lib/python3/dist-packages/jinja2/__init__.py\", line 33, in <module>\n",
            "    from jinja2.environment import Environment, Template\n",
            "  File \"/usr/lib/python3/dist-packages/jinja2/environment.py\", line 15, in <module>\n",
            "    from jinja2 import nodes\n",
            "  File \"/usr/lib/python3/dist-packages/jinja2/nodes.py\", line 23, in <module>\n",
            "    from jinja2.utils import Markup\n",
            "  File \"/usr/lib/python3/dist-packages/jinja2/utils.py\", line 656, in <module>\n",
            "    from markupsafe import Markup, escape, soft_unicode\n",
            "ImportError: cannot import name 'soft_unicode' from 'markupsafe' (/home/rdbabiera/.local/lib/python3.8/site-packages/markupsafe/__init__.py)\n",
            "\n",
            "During handling of the above exception, another exception occurred:\n",
            "\n",
            "Traceback (most recent call last):\n",
            "  File \"/home/rdbabiera/.vscode/extensions/ms-toolsai.jupyter-2022.4.1021342353/pythonFiles/vscode_datascience_helpers/daemon/daemon_python.py\", line 54, in _decorator\n",
            "    return func(self, *args, **kwargs)\n",
            "  File \"/home/rdbabiera/.vscode/extensions/ms-toolsai.jupyter-2022.4.1021342353/pythonFiles/vscode_datascience_helpers/jupyter_daemon.py\", line 111, in m_exec_module_observable\n",
            "    self._start_notebook(args, cwd, env)\n",
            "  File \"/home/rdbabiera/.vscode/extensions/ms-toolsai.jupyter-2022.4.1021342353/pythonFiles/vscode_datascience_helpers/jupyter_daemon.py\", line 160, in _start_notebook\n",
            "    from notebook import app as app\n",
            "ImportError: cannot import name 'app' from 'notebook' (/home/rdbabiera/.local/lib/python3.8/site-packages/notebook/__init__.py)\n",
            "\n",
            "Failed to run jupyter as observable with args notebook --no-browser --notebook-dir=\"/home/rdbabiera/catkin_ws/src/robotics_final_project/scripts\" --config=/tmp/0e5fb401-1419-4375-b7e4-dfcdf72edeee/jupyter_notebook_config.py --NotebookApp.iopub_data_rate_limit=10000000000.0. \n",
            "View Jupyter <a href='command:jupyter.viewOutput'>log</a> for further details."
          ]
        }
      ],
      "source": [
        "import cv2\n",
        "import numpy as np\n",
        "import math\n",
        "import os\n",
        "\n",
        "# Import ML Libraries\n",
        "from collections import namedtuple, deque\n",
        "import random\n",
        "\n",
        "import torch\n",
        "import torch.nn as nn\n",
        "import torch.optim as optim\n",
        "import torch.nn.functional as F\n",
        "import torchvision.transforms as T\n",
        "import torch.distributions as distributions"
      ]
    },
    {
      "cell_type": "code",
      "execution_count": 4,
      "metadata": {
        "id": "mDLmcE0piNgb"
      },
      "outputs": [],
      "source": [
        "model_path = \"./models/\"\n",
        "\n",
        "Transition = namedtuple('Transition', ('state', 'action', 'reward', 'next_state'))\n",
        "\n",
        "class ReplayMemory(object):\n",
        "    def __init__(self, capacity, batch_size):\n",
        "        self.memory = deque([],maxlen=capacity)\n",
        "        self.capacity = capacity\n",
        "        self.batch_size = batch_size\n",
        "\n",
        "    def push(self, *args):\n",
        "        \"\"\"Save a transition\"\"\"\n",
        "        self.memory.append(Transition(*args))\n",
        "\n",
        "    def sample(self):\n",
        "        return random.sample(self.memory, self.batch_size)\n",
        "\n",
        "    def __len__(self):\n",
        "        return len(self.memory)"
      ]
    },
    {
      "cell_type": "markdown",
      "metadata": {
        "id": "ED2DOToyiNgc"
      },
      "source": [
        "### Set Up Reward System"
      ]
    },
    {
      "cell_type": "code",
      "execution_count": 5,
      "metadata": {
        "id": "L3WvfHHIiNgd"
      },
      "outputs": [],
      "source": [
        "class Balloon(object):\n",
        "    def __init__(self, center, depth):\n",
        "        self.center = center\n",
        "        self.depth = depth\n",
        "        self.alive = True\n",
        "    \n",
        "    def determine_prize(self, prev_coords, shape, max_depth):\n",
        "        prize = 125\n",
        "        scaling = self.depth / max_depth\n",
        "        h_flick = abs(prev_coords[0] - self.center[0]) / (0.5 * shape[0])\n",
        "        w_flick = abs(prev_coords[1] - self.center[1]) / (0.5 * shape[1])\n",
        "        flick_prize = min(h_flick * 100, 100) + min(w_flick * 100, 100)\n",
        "\n",
        "        return (prize * scaling) + flick_prize"
      ]
    },
    {
      "cell_type": "code",
      "execution_count": 9,
      "metadata": {
        "id": "lBoAxOshiNge"
      },
      "outputs": [],
      "source": [
        "class Game(object):\n",
        "    def __init__(self, h, w):\n",
        "        self.h = h\n",
        "        self.w = w\n",
        "        self.max_depth = 0\n",
        "        self.balloons_popped = 0\n",
        "        self.current_balloons = {}\n",
        "        self.last_shot = np.array([self.h//2, self.w//2])\n",
        "        self.state = []\n",
        "\n",
        "        for i in range(0, 3):\n",
        "            depth = np.random.uniform(1, 4)\n",
        "            if depth > self.max_depth:\n",
        "                self.max_depth = depth\n",
        "\n",
        "            y_coord = np.random.randint(20, self.h-20)\n",
        "            x_coord = np.random.randint(20, self.w-20)\n",
        "            pos = np.array([y_coord, x_coord])\n",
        "\n",
        "            bloon = Balloon(pos, depth)\n",
        "            \n",
        "            self.current_balloons[i] = bloon\n",
        "\n",
        "            self.state.append([y_coord/self.h, x_coord/self.w, depth])\n",
        "        \n",
        "        for i in range(0, 3):\n",
        "            self.state[i][2] /= self.max_depth\n",
        "\n",
        "        self.done = False\n",
        "\n",
        "    def determine_top_score(self):\n",
        "        max_reward = 0\n",
        "        perms = [[0, 1, 2], [0, 2, 1], [1, 2, 0], [1, 0, 2], [2, 0, 1], [2, 1, 0]]\n",
        "        size = np.array([self.h, self.w])\n",
        "        rewards = {}\n",
        "\n",
        "        for p in perms:\n",
        "            reward = 0\n",
        "\n",
        "            shot = np.array([self.h//2, self.w//2])\n",
        "\n",
        "            for b in p:\n",
        "                ball = self.current_balloons[b]\n",
        "                reward += ball.determine_prize(shot, size, self.max_depth)\n",
        "                shot = ball.center\n",
        "\n",
        "            if reward > max_reward:\n",
        "                max_reward = reward\n",
        "            rewards[str(p)] = reward\n",
        "\n",
        "        return max_reward, rewards\n",
        "    \n",
        "    def restart_game(self):\n",
        "        self.last_shot = np.array([self.h//2, self.w//2])\n",
        "        self.state = []\n",
        "        for b in self.current_balloons:\n",
        "            balloon = self.current_balloons[b]\n",
        "            balloon.alive = True\n",
        "            self.state.append([balloon.center[0]/self.h, balloon.center[1]/self.w, balloon.depth/self.max_depth])\n",
        "        self.balloons_popped = 0\n",
        "        self.done = False\n",
        "\n",
        "    def update_shot(self, selected_balloon):\n",
        "        print(selected_balloon)\n",
        "        balloon_params = self.state[selected_balloon]\n",
        "        print(balloon_params)\n",
        "        balloon = None\n",
        "        for b_idx in self.current_balloons:\n",
        "            ball_check = self.current_balloons[b_idx]\n",
        "            if (balloon_params[0] == ball_check.center[0]/self.h) and (balloon_params[1] == ball_check.center[1]/self.w) \\\n",
        "                    and (balloon_params[2] == ball_check.depth/self.max_depth):\n",
        "                balloon = ball_check\n",
        "\n",
        "        if not balloon.alive:\n",
        "            reward = -50\n",
        "        else:\n",
        "            reward = balloon.determine_prize(self.last_shot, [self.h, self.w], self.max_depth)\n",
        "            self.state.pop(selected_balloon)\n",
        "            balloon.alive = False\n",
        "            self.balloons_popped += 1\n",
        "\n",
        "        next_state = self.state\n",
        "        self.last_shot = [balloon.center[0], balloon.center[1]]\n",
        "\n",
        "        if self.balloons_popped == 3:\n",
        "            self.done = True\n",
        "\n",
        "        return torch.tensor([[reward]]), next_state, self.done"
      ]
    },
    {
      "cell_type": "code",
      "execution_count": 10,
      "metadata": {
        "colab": {
          "base_uri": "https://localhost:8080/"
        },
        "id": "YxmolxJXiNgh",
        "outputId": "dd4e14cb-4946-4920-880c-c334ee265da1"
      },
      "outputs": [
        {
          "name": "stdout",
          "output_type": "stream",
          "text": [
            "Action: 0\n",
            "[[0.7708333333333334, 0.259375, 0.7541041906434294], [0.4395833333333333, 0.9109375, 0.8696705018509383], [0.7, 0.659375, 1.0]]\n",
            "tensor([0])\n",
            "Best Score: 698.909336561796\n",
            "All Rewards: {'[0, 1, 2]': 698.909336561796, '[0, 2, 1]': 626.8260032284627, '[1, 2, 0]': 618.8051698951292, '[1, 0, 2]': 682.659336561796, '[2, 0, 1]': 660.2635032284627, '[2, 1, 0]': 668.4926698951293}\n",
            "698.909336561796\n",
            "[[0.7708333333333334, 0.259375, 0.7541041906434294], [0.4395833333333333, 0.9109375, 0.8696705018509383], [0.7, 0.659375, 1.0]]\n"
          ]
        }
      ],
      "source": [
        "test_game = Game(480, 640)\n",
        "# print(\"First State\")\n",
        "# print(test_game.state)\n",
        "random_action = torch.tensor([0])\n",
        "print(f\"Action: {random_action.item()}\")\n",
        "print(test_game.state)\n",
        "test_game.update_shot(random_action)\n",
        "test_game.restart_game()\n",
        "best_score, rewards = test_game.determine_top_score()\n",
        "print(f\"Best Score: {best_score}\")\n",
        "print(f\"All Rewards: {rewards}\")\n",
        "print(best_score)\n",
        "print(test_game.state)"
      ]
    },
    {
      "cell_type": "markdown",
      "metadata": {
        "id": "GxPfr-sriNgj"
      },
      "source": [
        "### DQN Model"
      ]
    },
    {
      "cell_type": "code",
      "execution_count": null,
      "metadata": {
        "id": "jVAPBZptiNgk"
      },
      "outputs": [],
      "source": [
        "class AimlabNetwork(nn.Module):\n",
        "    def __init__(self):\n",
        "        super(AimlabNetwork, self).__init__()\n",
        "        self.input_channels = 1\n",
        "\n",
        "        self.lstm = nn.LSTM(3, 3, num_layers = 1, batch_first=True, bidirectional=True)\n",
        "        self.encoder = nn.ModuleList([\n",
        "            nn.Linear(6, 1),\n",
        "            nn.ReLU(),\n",
        "        ])\n",
        "        # self.lstm2 = nn.LSTM(3, 1, num_layers = 2, batch_first=True)\n",
        "\n",
        "    def forward(self, x):\n",
        "        out, hidden = self.lstm(x)\n",
        "        for i, l in enumerate(self.encoder):\n",
        "            out = l(out)\n",
        "        # out, hidden2 = self.lstm2(out)\n",
        "        out = out.flatten(1)\n",
        "\n",
        "        return out"
      ]
    },
    {
      "cell_type": "code",
      "execution_count": null,
      "metadata": {
        "colab": {
          "base_uri": "https://localhost:8080/"
        },
        "id": "TEHR_Z4giNgl",
        "outputId": "195aa464-c488-470e-f4a8-be6c5fcafc22"
      },
      "outputs": [
        {
          "name": "stdout",
          "output_type": "stream",
          "text": [
            "torch.Size([1, 4, 3])\n",
            "tensor([[0.2227, 0.2014, 0.1913, 0.2040]], grad_fn=<ReshapeAliasBackward0>)\n",
            "torch.Size([1, 4])\n",
            "tensor([[0]])\n"
          ]
        }
      ],
      "source": [
        "test_network = AimlabNetwork()\n",
        "test_state = torch.rand((1, 4, 3))\n",
        "#test_state = torch.tensor([[[230, 320, 1],\n",
        "#                           [100, 300, 2],\n",
        "#                           [412, 420, 4],\n",
        "#                           [0, 1, 2.7]]])\n",
        "print(test_state.shape)\n",
        "output = test_network(test_state)\n",
        "print(output)\n",
        "print(output.shape)\n",
        "print(output.max(1)[1].view(1, 1))"
      ]
    },
    {
      "cell_type": "code",
      "execution_count": null,
      "metadata": {
        "id": "hA12siqAiNgl"
      },
      "outputs": [],
      "source": [
        "class AimlabTrainer(object):\n",
        "    def __init__(self, h, w):\n",
        "        self.h = h\n",
        "        self.w = w\n",
        "\n",
        "        \"\"\"\n",
        "        Model Parameters\n",
        "        \"\"\"\n",
        "        self.batch_size = 1\n",
        "        self.gamma = 0.999\n",
        "        self.eps_start = 0.9\n",
        "        self.eps_end = 0.05\n",
        "        self.eps_decay = 200\n",
        "        self.target_update = 10\n",
        "\n",
        "        self.steps_done = 0\n",
        "\n",
        "        self.model = AimlabNetwork().float()\n",
        "        self.target_model = AimlabNetwork().float()\n",
        "        self.target_model.load_state_dict(self.model.state_dict())\n",
        "        self.target_model.eval()\n",
        "\n",
        "        self.memory = ReplayMemory(50, 1)\n",
        "        self.optimizer = optim.RMSprop(self.model.parameters())\n",
        "\n",
        "\n",
        "    def select_action(self, state):\n",
        "        sample = random.random()\n",
        "        eps_threshold = self.eps_end + (self.eps_start - self.eps_end) * \\\n",
        "            math.exp(-1. * self.steps_done / self.eps_decay)\n",
        "        self.steps_done += 1\n",
        "        if sample > eps_threshold:\n",
        "            action = self.model(state.float()).max(1)[1].view(1, 1)\n",
        "        else:\n",
        "            action = torch.tensor([[random.randint(0, len(state)-1)]])\n",
        "        return action\n",
        "    \n",
        "\n",
        "    def optimize(self):\n",
        "        transitions = self.memory.sample()\n",
        "        batch = Transition(*zip(*transitions))\n",
        "\n",
        "        state_batch = torch.cat(batch.state)\n",
        "        action_batch = torch.cat(batch.action)\n",
        "        reward_batch = torch.cat(batch.reward)\n",
        "           \n",
        "        # Compute Q(s_t, a)\n",
        "        state_action_values = self.model(state_batch.float()).gather(1, action_batch)\n",
        "\n",
        "        # Compute V(s_{t+1}) for all next states.\n",
        "        if batch.next_state[0] is None:\n",
        "            next_state_values = torch.zeros(1)\n",
        "        else:\n",
        "            next_state_batch = torch.cat(batch.next_state)  \n",
        "            next_state_values = self.target_model(next_state_batch.float()).max(1)[0].detach()\n",
        "        # Compute expected Q\n",
        "        expected_state_action_values = (next_state_values * self.gamma) + reward_batch\n",
        "        \n",
        "        # Compute Huber loss\n",
        "        criterion = nn.SmoothL1Loss()\n",
        "        loss = criterion(state_action_values.float(), expected_state_action_values.float())\n",
        "\n",
        "        # Optimize Model\n",
        "        self.optimizer.zero_grad()\n",
        "        loss.backward()\n",
        "        for param in self.model.parameters():\n",
        "            param.grad.data.clamp_(-1, 1)\n",
        "        self.optimizer.step()\n",
        "\n",
        "    def train(self):\n",
        "        num_episodes = 10000\n",
        "        for i_episode in range(num_episodes):\n",
        "            if i_episode % 1000 == 0:\n",
        "                print(f\"Starting Episode {i_episode}\")\n",
        "\n",
        "            game = Game(self.h, self.w)\n",
        "\n",
        "            for replay in range(0, 20):\n",
        "                game.restart_game()\n",
        "                state = torch.tensor(game.state, dtype=torch.double)\n",
        "                state = state.reshape(1, -1, 3)\n",
        "            \n",
        "                done = False\n",
        "                while not done:\n",
        "                    action = self.select_action(state)\n",
        "                    reward, next_state, done = game.update_shot(action)\n",
        "\n",
        "                    next_state = torch.tensor(next_state, dtype=torch.double)\n",
        "                    next_state = next_state.reshape(1, -1, 3)\n",
        "\n",
        "                    if done:\n",
        "                        next_state = None\n",
        "\n",
        "                    # Store Transition in Memory\n",
        "                    self.memory.push(state, action, reward, next_state)\n",
        "\n",
        "                    # State Transition\n",
        "                    state = next_state\n",
        "\n",
        "                    # Perform Optimization\n",
        "                    self.optimize()\n",
        "\n",
        "            if i_episode % 500 == 0:\n",
        "                self.target_model.load_state_dict(self.model.state_dict())\n",
        "\n",
        "\n",
        "    def evaluate_once(self):\n",
        "        print(\"Starting Evaluation\")\n",
        "        game = Game(self.h, self.w)\n",
        "        state = game.state\n",
        "        print(f\"Game State: {state}\")\n",
        "        done = False\n",
        "        total_reward = 0\n",
        "        order = []\n",
        "        while not done:\n",
        "            state = torch.tensor(state, dtype=torch.double)\n",
        "            state = state.reshape(1, -1, 3)\n",
        "            action = self.model(state.float()).max(1)[1].view(1, 1)\n",
        "            print(f\"action: {self.model(state.float())}\")\n",
        "            reward, next_state, done = game.update_shot(action)\n",
        "            order.append(action)\n",
        "            total_reward += reward\n",
        "\n",
        "            # Move to Next State\n",
        "            state = next_state\n",
        "\n",
        "        # Diagnostics\n",
        "        top_score, rewards = game.determine_top_score()\n",
        "        print(f\"Reward {total_reward.item()} / {top_score}\")\n",
        "        print(f\"Order Taken: {order}\")\n",
        "        print(f\"All Rewards: {rewards}\")\n",
        "\n",
        "    def evaluate_accuracy(self):\n",
        "        print(\"Starting Evaluation\")\n",
        "        total_right = 0\n",
        "        total_top3 = 0\n",
        "        for i in range(0, 1000):\n",
        "            game = Game(self.h, self.w)\n",
        "            state = game.state\n",
        "            done = False\n",
        "            total_reward = 0\n",
        "            order = []\n",
        "            while not done:\n",
        "                state = torch.tensor(state, dtype=torch.double)\n",
        "                state = state.reshape(1, -1, 3)\n",
        "                action = self.model(state.float()).max(1)[1].view(1, 1)\n",
        "                reward, next_state, done = game.update_shot(action)\n",
        "                order.append(action)\n",
        "                total_reward += reward\n",
        "\n",
        "                # Move to Next State\n",
        "                state = next_state\n",
        "\n",
        "            # Diagnostics\n",
        "            top_score, rewards = game.determine_top_score()\n",
        "            average_reward = sum(rewards.values()) / 6\n",
        "            if total_reward == top_score:\n",
        "                total_right += 1\n",
        "            if total_reward >= average_reward:\n",
        "                total_top3 += 1\n",
        "                \n",
        "        print(f\"Accuracy: {total_right/10}%\")\n",
        "        print(f\"Top 3 Accuracy: {total_top3/10}%\")\n",
        "    "
      ]
    },
    {
      "cell_type": "markdown",
      "metadata": {
        "id": "Rt0Nc9-QiNgn"
      },
      "source": [
        "## Train Model"
      ]
    },
    {
      "cell_type": "code",
      "execution_count": 75,
      "metadata": {
        "colab": {
          "base_uri": "https://localhost:8080/"
        },
        "id": "CSti70WNiNgn",
        "outputId": "33a6ddfe-2791-414a-e4c5-424beb8184f8"
      },
      "outputs": [
        {
          "name": "stdout",
          "output_type": "stream",
          "text": [
            "Starting Episode 0\n",
            "Starting Episode 1000\n",
            "Starting Episode 2000\n",
            "Starting Episode 3000\n",
            "Starting Episode 4000\n",
            "Starting Episode 5000\n",
            "Starting Episode 6000\n",
            "Starting Episode 7000\n",
            "Starting Episode 8000\n",
            "Starting Episode 9000\n"
          ]
        }
      ],
      "source": [
        "model = AimlabTrainer(480, 640)\n",
        "model.train()\n",
        "torch.save(model.model.state_dict(), model_path + \"balloon_popping_model_2.pt\")"
      ]
    },
    {
      "cell_type": "code",
      "execution_count": 85,
      "metadata": {
        "colab": {
          "base_uri": "https://localhost:8080/"
        },
        "id": "eQDvislgiNgo",
        "outputId": "e21cc18e-37a1-415b-9efa-e6621f4bfe87"
      },
      "outputs": [
        {
          "name": "stdout",
          "output_type": "stream",
          "text": [
            "Starting Evaluation\n",
            "Accuracy: 19.9%\n",
            "Top 3 Accuracy: 53.5%\n"
          ]
        }
      ],
      "source": [
        "model.evaluate_accuracy()"
      ]
    },
    {
      "cell_type": "code",
      "execution_count": 83,
      "metadata": {
        "colab": {
          "base_uri": "https://localhost:8080/"
        },
        "id": "ZiHceSIEiNgo",
        "outputId": "a8f0209c-fbb6-48ef-a05d-9cb2eb56699c"
      },
      "outputs": [
        {
          "name": "stdout",
          "output_type": "stream",
          "text": [
            "Starting Evaluation\n",
            "Game State: [[0.7104166666666667, 0.06875, 0.39857279163584886], [0.24166666666666667, 0.8921875, 0.34091360383585084], [0.6041666666666666, 0.959375, 1.0]]\n",
            "action: tensor([[169.6036, 160.0530, 156.7300]], grad_fn=<ReshapeAliasBackward0>)\n",
            "action: tensor([[140.6230, 131.9190]], grad_fn=<ReshapeAliasBackward0>)\n",
            "action: tensor([[165.8755]], grad_fn=<ReshapeAliasBackward0>)\n",
            "Reward 625.4566327672958 / 662.5399661006292\n",
            "Order Taken: [tensor([[0]]), tensor([[0]]), tensor([[0]])]\n",
            "All Rewards: {'[0, 1, 2]': 625.4566327672958, '[0, 2, 1]': 552.9566327672958, '[1, 2, 0]': 554.727466100629, '[1, 0, 2]': 662.5399661006292, '[2, 0, 1]': 645.1441327672958, '[2, 1, 0]': 609.8316327672958}\n"
          ]
        }
      ],
      "source": [
        "model.evaluate_once()"
      ]
    },
    {
      "cell_type": "code",
      "execution_count": 86,
      "metadata": {
        "id": "Eu0zM2b8xE8x"
      },
      "outputs": [],
      "source": [
        "torch.save(model.model.state_dict(), model_path + \"aimlab_model.pt\")"
      ]
    }
  ],
  "metadata": {
    "colab": {
      "collapsed_sections": [],
      "name": "q_learning_notebook_points.ipynb",
      "provenance": []
    },
    "interpreter": {
      "hash": "916dbcbb3f70747c44a77c7bcd40155683ae19c65e1c03b4aa3499c5328201f1"
    },
    "kernelspec": {
      "display_name": "Python 3.8.10 64-bit",
      "language": "python",
      "name": "python3"
    },
    "language_info": {
      "codemirror_mode": {
        "name": "ipython",
        "version": 3
      },
      "file_extension": ".py",
      "mimetype": "text/x-python",
      "name": "python",
      "nbconvert_exporter": "python",
      "pygments_lexer": "ipython3",
      "version": "3.8.10"
    },
    "orig_nbformat": 4
  },
  "nbformat": 4,
  "nbformat_minor": 0
}
